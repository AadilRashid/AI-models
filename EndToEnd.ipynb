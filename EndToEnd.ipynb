{
  "nbformat": 4,
  "nbformat_minor": 0,
  "metadata": {
    "colab": {
      "name": "EndToEnd.ipynb",
      "provenance": [],
      "mount_file_id": "18SE8cfvvUry9W7hnTHeVZqsDxSg5zaKq",
      "authorship_tag": "ABX9TyNLD2M9taJd/H3x9s+pXQGh",
      "include_colab_link": true
    },
    "kernelspec": {
      "display_name": "Python 3",
      "name": "python3"
    },
    "language_info": {
      "name": "python"
    }
  },
  "cells": [
    {
      "cell_type": "markdown",
      "metadata": {
        "id": "view-in-github",
        "colab_type": "text"
      },
      "source": [
        "<a href=\"https://colab.research.google.com/github/AadilRashid/hi-world/blob/master/EndToEnd.ipynb\" target=\"_parent\"><img src=\"https://colab.research.google.com/assets/colab-badge.svg\" alt=\"Open In Colab\"/></a>"
      ]
    },
    {
      "cell_type": "code",
      "metadata": {
        "colab": {
          "base_uri": "https://localhost:8080/"
        },
        "id": "yGoPCL5fjCyp",
        "outputId": "370000f5-a79f-4e5d-abbf-fd8e9e39cf56"
      },
      "source": [
        "%cd /content/drive/MyDrive/DeepLearning"
      ],
      "execution_count": null,
      "outputs": [
        {
          "output_type": "stream",
          "text": [
            "/content/drive/MyDrive/DeepLearning\n"
          ],
          "name": "stdout"
        }
      ]
    },
    {
      "cell_type": "markdown",
      "metadata": {
        "id": "nl8pO3nUjzsa"
      },
      "source": [
        "## Checking imports"
      ]
    },
    {
      "cell_type": "code",
      "metadata": {
        "id": "nMqLm8hLkrsu"
      },
      "source": [
        ""
      ],
      "execution_count": null,
      "outputs": []
    },
    {
      "cell_type": "code",
      "metadata": {
        "id": "7kK6fqo5j2aA"
      },
      "source": [
        "import tensorflow as tf\n",
        "import numpy as np\n",
        "import pandas as pd\n",
        "import matplotlib.pyplot as plt\n"
      ],
      "execution_count": null,
      "outputs": []
    },
    {
      "cell_type": "markdown",
      "metadata": {
        "id": "FheL6yFSjtuJ"
      },
      "source": [
        "## Loading the dataset"
      ]
    },
    {
      "cell_type": "code",
      "metadata": {
        "id": "SQpyJr-7jjti"
      },
      "source": [
        "from tensorflow.keras.datasets import cifar10\n",
        "\n",
        "(x_train,y_train),(x_test,y_test)  = cifar10.load_data()"
      ],
      "execution_count": null,
      "outputs": []
    },
    {
      "cell_type": "code",
      "metadata": {
        "colab": {
          "base_uri": "https://localhost:8080/"
        },
        "id": "sSbYSsFKkNlK",
        "outputId": "bfb830a3-e2f4-4b61-d298-ea4ab972304a"
      },
      "source": [
        "size = 10000\n",
        "x_train_trim = x_train[:size]/255.\n",
        "y_train_trim = y_train[:size]\n",
        "\n",
        "\n",
        "x_test_trim = x_test[:int(size*.2)]/255.\n",
        "y_test_trim = y_test[:int(size*.2)]\n",
        "\n",
        "\n",
        "x_train_trim.shape,y_train_trim.shape,x_test_trim.shape,y_test_trim.shape"
      ],
      "execution_count": null,
      "outputs": [
        {
          "output_type": "execute_result",
          "data": {
            "text/plain": [
              "((10000, 32, 32, 3), (10000, 1), (2000, 32, 32, 3), (2000, 1))"
            ]
          },
          "metadata": {
            "tags": []
          },
          "execution_count": 55
        }
      ]
    },
    {
      "cell_type": "code",
      "metadata": {
        "colab": {
          "base_uri": "https://localhost:8080/"
        },
        "id": "YvyCBHgDnTwb",
        "outputId": "466787f8-986c-4f9f-ea73-b0de058d5f06"
      },
      "source": [
        "pd.Series(y_train.ravel()).value_counts()"
      ],
      "execution_count": null,
      "outputs": [
        {
          "output_type": "execute_result",
          "data": {
            "text/plain": [
              "9    5000\n",
              "8    5000\n",
              "7    5000\n",
              "6    5000\n",
              "5    5000\n",
              "4    5000\n",
              "3    5000\n",
              "2    5000\n",
              "1    5000\n",
              "0    5000\n",
              "dtype: int64"
            ]
          },
          "metadata": {
            "tags": []
          },
          "execution_count": 56
        }
      ]
    },
    {
      "cell_type": "markdown",
      "metadata": {
        "id": "UxXH-51WvFX7"
      },
      "source": [
        "## Defining Model"
      ]
    },
    {
      "cell_type": "code",
      "metadata": {
        "id": "skOpxyoQkwNS"
      },
      "source": [
        "from tensorflow.keras.layers import Dense,Flatten,Conv2D,MaxPool2D,Dropout\n",
        "from tensorflow.keras.regularizers import l1\n",
        "from tensorflow.keras.models import Sequential\n",
        "\n",
        "def get_model(decay =0,dropout=.3):\n",
        "  model = Sequential([\n",
        "                      \n",
        "                    Conv2D(32,3,activation =\"relu\",input_shape = (32,32,3)),\n",
        "                    MaxPool2D(2),\n",
        "                    #Dropout(dropout),\n",
        "                    Conv2D(8,3,activation =\"relu\"),\n",
        "                    MaxPool2D(2),\n",
        "                    #Dropout(dropout),\n",
        "                    \n",
        "                    \n",
        "                    Flatten(),\n",
        "                    Dense(10,activation=\"softmax\")\n",
        "  ])\n",
        "\n",
        "  return model"
      ],
      "execution_count": null,
      "outputs": []
    },
    {
      "cell_type": "code",
      "metadata": {
        "id": "aLszmRXqn7X-"
      },
      "source": [
        "def get_test_accuracy(model,x,y):\n",
        "  print(model.evaluate(x,y))\n",
        "\n",
        "\n",
        "  "
      ],
      "execution_count": null,
      "outputs": []
    },
    {
      "cell_type": "markdown",
      "metadata": {
        "id": "KYVySTELvNdw"
      },
      "source": [
        "## Calling and Executing the Model"
      ]
    },
    {
      "cell_type": "code",
      "metadata": {
        "colab": {
          "base_uri": "https://localhost:8080/"
        },
        "id": "WsEukJxzn-QK",
        "outputId": "ab06fc83-fcb7-49ab-f103-6d9149fe2793"
      },
      "source": [
        "#initialize a model\n",
        "model = get_model()\n",
        "model.summary()\n"
      ],
      "execution_count": null,
      "outputs": [
        {
          "output_type": "stream",
          "text": [
            "Model: \"sequential\"\n",
            "_________________________________________________________________\n",
            "Layer (type)                 Output Shape              Param #   \n",
            "=================================================================\n",
            "conv2d (Conv2D)              (None, 30, 30, 32)        896       \n",
            "_________________________________________________________________\n",
            "max_pooling2d (MaxPooling2D) (None, 15, 15, 32)        0         \n",
            "_________________________________________________________________\n",
            "conv2d_1 (Conv2D)            (None, 13, 13, 8)         2312      \n",
            "_________________________________________________________________\n",
            "max_pooling2d_1 (MaxPooling2 (None, 6, 6, 8)           0         \n",
            "_________________________________________________________________\n",
            "flatten (Flatten)            (None, 288)               0         \n",
            "_________________________________________________________________\n",
            "dense (Dense)                (None, 10)                2890      \n",
            "=================================================================\n",
            "Total params: 6,098\n",
            "Trainable params: 6,098\n",
            "Non-trainable params: 0\n",
            "_________________________________________________________________\n"
          ],
          "name": "stdout"
        }
      ]
    },
    {
      "cell_type": "code",
      "metadata": {
        "id": "j4_FNuM7o4rJ"
      },
      "source": [
        "model.compile(optimizer=\"adam\",loss = \"sparse_categorical_crossentropy\",metrics =[\"acc\"])\n"
      ],
      "execution_count": null,
      "outputs": []
    },
    {
      "cell_type": "code",
      "metadata": {
        "colab": {
          "base_uri": "https://localhost:8080/"
        },
        "id": "J-8WDXOPpJ8I",
        "outputId": "20542b58-50a8-430e-e760-f9623b163d0e"
      },
      "source": [
        "#define some callbacks\n",
        "from tensorflow.keras.callbacks import EarlyStopping,ModelCheckpoint,CSVLogger\n",
        "escp =EarlyStopping(patience=15)\n",
        "mcp = ModelCheckpoint(\"myModel1\",save_weights_only=True)\n",
        "csvcp=CSVLogger(\"Traininglogs\")\n",
        "\n",
        "#fitting the model\n",
        "model.fit(x_train_trim,y_train_trim,validation_split = .15,batch_size=8,verbose=2,callbacks=[escp,mcp])"
      ],
      "execution_count": null,
      "outputs": [
        {
          "output_type": "stream",
          "text": [
            "1063/1063 - 10s - loss: 1.9804 - acc: 0.2781 - val_loss: 1.7942 - val_acc: 0.3460\n"
          ],
          "name": "stdout"
        },
        {
          "output_type": "execute_result",
          "data": {
            "text/plain": [
              "<tensorflow.python.keras.callbacks.History at 0x7feaa6cf8890>"
            ]
          },
          "metadata": {
            "tags": []
          },
          "execution_count": 11
        }
      ]
    },
    {
      "cell_type": "code",
      "metadata": {
        "colab": {
          "base_uri": "https://localhost:8080/"
        },
        "id": "Aq1V0nz0qQX9",
        "outputId": "e9da23a3-aa76-4f2a-fb30-0d9d3e438ebe"
      },
      "source": [
        "get_test_accuracy(model,x_test_trim,y_test_trim)"
      ],
      "execution_count": null,
      "outputs": [
        {
          "output_type": "stream",
          "text": [
            "63/63 [==============================] - 1s 9ms/step - loss: 1.7870 - acc: 0.3475\n",
            "[1.786990761756897, 0.3474999964237213]\n"
          ],
          "name": "stdout"
        }
      ]
    },
    {
      "cell_type": "code",
      "metadata": {
        "id": "6V1IfcDurAoS"
      },
      "source": [
        ""
      ],
      "execution_count": null,
      "outputs": []
    },
    {
      "cell_type": "markdown",
      "metadata": {
        "id": "et3vVD33Ef2n"
      },
      "source": [
        "## Using tensorflow Hub model "
      ]
    },
    {
      "cell_type": "code",
      "metadata": {
        "id": "z_1VAEYoEjvU"
      },
      "source": [
        "import tensorflow_hub as hub"
      ],
      "execution_count": null,
      "outputs": []
    },
    {
      "cell_type": "code",
      "metadata": {
        "id": "uFm1G-EUEr0l"
      },
      "source": [
        "m = tf.keras.Sequential([\n",
        "    hub.KerasLayer(\"https://tfhub.dev/tensorflow/resnet_50/classification/1\")\n",
        "])\n",
        "m.build([None, 224, 224, 3])  # Batch input shape.\n"
      ],
      "execution_count": null,
      "outputs": []
    },
    {
      "cell_type": "code",
      "metadata": {
        "colab": {
          "base_uri": "https://localhost:8080/"
        },
        "id": "hQnLka9oGaP7",
        "outputId": "cb53281a-88df-4c5e-ddb1-fde9eb5e4e2c"
      },
      "source": [
        "m.summary()"
      ],
      "execution_count": null,
      "outputs": [
        {
          "output_type": "stream",
          "text": [
            "Model: \"sequential_1\"\n",
            "_________________________________________________________________\n",
            "Layer (type)                 Output Shape              Param #   \n",
            "=================================================================\n",
            "keras_layer (KerasLayer)     (None, 1001)              25612201  \n",
            "=================================================================\n",
            "Total params: 25,612,201\n",
            "Trainable params: 0\n",
            "Non-trainable params: 25,612,201\n",
            "_________________________________________________________________\n"
          ],
          "name": "stdout"
        }
      ]
    },
    {
      "cell_type": "code",
      "metadata": {
        "id": "yrDLKfpB5OjI"
      },
      "source": [
        "from tensorflow.keras.preprocessing import image\n",
        "img = image.array_to_img(x_test[0])\n",
        "img = image.smart_resize(np.array(img),(224,224))\n",
        "\n",
        "\n",
        "pred = m.predict(img[np.newaxis,...])"
      ],
      "execution_count": null,
      "outputs": []
    },
    {
      "cell_type": "code",
      "metadata": {
        "colab": {
          "base_uri": "https://localhost:8080/"
        },
        "id": "50Kxhz7Z5yqw",
        "outputId": "70022570-1f32-4c75-a5c3-5e11e7ec1dc5"
      },
      "source": [
        "np.argmax(pred,axis=1)"
      ],
      "execution_count": null,
      "outputs": [
        {
          "output_type": "execute_result",
          "data": {
            "text/plain": [
              "array([902])"
            ]
          },
          "metadata": {
            "tags": []
          },
          "execution_count": 22
        }
      ]
    },
    {
      "cell_type": "code",
      "metadata": {
        "id": "-Yy0V7Hn7s2i"
      },
      "source": [
        "with open(\"/content/drive/MyDrive/DeepLearning/ImageNetLabels.txt\",\"r\") as f:\n",
        "  categories = f.read().splitlines()"
      ],
      "execution_count": null,
      "outputs": []
    },
    {
      "cell_type": "code",
      "metadata": {
        "colab": {
          "base_uri": "https://localhost:8080/",
          "height": 35
        },
        "id": "mFFP2PxZDGoU",
        "outputId": "c25ccc47-9c57-4506-f42d-0678a8815cec"
      },
      "source": [
        "categories[902]"
      ],
      "execution_count": null,
      "outputs": [
        {
          "output_type": "execute_result",
          "data": {
            "application/vnd.google.colaboratory.intrinsic+json": {
              "type": "string"
            },
            "text/plain": [
              "'whiskey jug'"
            ]
          },
          "metadata": {
            "tags": []
          },
          "execution_count": 57
        }
      ]
    },
    {
      "cell_type": "code",
      "metadata": {
        "id": "uielkwpj8oRR"
      },
      "source": [
        ""
      ],
      "execution_count": null,
      "outputs": []
    }
  ]
}